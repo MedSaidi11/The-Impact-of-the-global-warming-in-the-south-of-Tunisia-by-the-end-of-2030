{
  "cells": [
    {
      "cell_type": "code",
      "execution_count": 1,
      "metadata": {
        "id": "SJiitOp3vXui"
      },
      "outputs": [],
      "source": [
        "import numpy as np \n",
        "import pandas as pd \n",
        "\n",
        "import seaborn as sns \n",
        "import matplotlib.pyplot as plt \n",
        "\n",
        "from sklearn.preprocessing import MinMaxScaler\n",
        "import math\n",
        "\n",
        "import warnings \n",
        "warnings.filterwarnings('ignore')\n",
        "\n",
        "np.random.seed(7)"
      ]
    },
    {
      "cell_type": "code",
      "execution_count": 2,
      "metadata": {
        "id": "DUfW7a_TZ8_U"
      },
      "outputs": [],
      "source": [
        "df = pd.read_csv(\"/content/Chatt-Al-Jarid.txt\", sep = '\\t')"
      ]
    },
    {
      "cell_type": "code",
      "execution_count": 3,
      "metadata": {
        "colab": {
          "base_uri": "https://localhost:8080/",
          "height": 386
        },
        "id": "GUWbN1qcCe1K",
        "outputId": "e4d23184-862c-442e-ebbe-75cf6258f54f"
      },
      "outputs": [
        {
          "output_type": "execute_result",
          "data": {
            "text/plain": [
              "          TimeStamp MeanWindSpeedUID_10,0m|Mean wind speed|L-1,00|U75,00  \\\n",
              "0               NaN                                              [m/s]     \n",
              "1  01/01/1992 01:00                                               2,11     \n",
              "2  01/01/1992 02:00                                               1,72     \n",
              "3  01/01/1992 03:00                                               1,71     \n",
              "4  01/01/1992 04:00                                               1,77     \n",
              "\n",
              "  DirectionUID_10,0m|Wind direction|L0,00|U360,00  Comment_10,0m  \\\n",
              "0                                       [Degrees]            NaN   \n",
              "1                                           290,9            NaN   \n",
              "2                                           281,2            NaN   \n",
              "3                                           276,7            NaN   \n",
              "4                                           276,1            NaN   \n",
              "\n",
              "   TimeStampStatus_10,0m  SampleStatus_10,0m  \\\n",
              "0                    NaN                 NaN   \n",
              "1                    0.0                 0.0   \n",
              "2                    0.0                 0.0   \n",
              "3                    0.0                 0.0   \n",
              "4                    0.0                 0.0   \n",
              "\n",
              "   DataStatus_MeanWindSpeedUID_10,0m  DataStatus_DirectionUID_10,0m  \\\n",
              "0                                NaN                            NaN   \n",
              "1                                0.0                            0.0   \n",
              "2                                0.0                            0.0   \n",
              "3                                0.0                            0.0   \n",
              "4                                0.0                            0.0   \n",
              "\n",
              "  MeanWindSpeedUID_100,0m|Mean wind speed|L-1,00|U75,00  \\\n",
              "0                                              [m/s]      \n",
              "1                                               3,79      \n",
              "2                                               3,62      \n",
              "3                                               3,92      \n",
              "4                                               4,27      \n",
              "\n",
              "  DirectionUID_100,0m|Wind direction|L0,00|U360,00  ...  \\\n",
              "0                                        [Degrees]  ...   \n",
              "1                                            324,1  ...   \n",
              "2                                            321,1  ...   \n",
              "3                                            311,5  ...   \n",
              "4                                            307,2  ...   \n",
              "\n",
              "   StabilityUID_2,0m|Stability (1/L)  \\\n",
              "0                              [1/m]   \n",
              "1                           0,190390   \n",
              "2                           0,232599   \n",
              "3                           0,512680   \n",
              "4                           0,536433   \n",
              "\n",
              "   RelativeHumidityUID_2,0m|Relative humidity|L0,00|U100,00  Comment_2,0m  \\\n",
              "0                                                [%]                  NaN   \n",
              "1                                               84,3                  NaN   \n",
              "2                                               84,1                  NaN   \n",
              "3                                               85,5                  NaN   \n",
              "4                                               88,1                  NaN   \n",
              "\n",
              "   TimeStampStatus_2,0m  SampleStatus_2,0m DataStatus_TemperatureUID_2,0m  \\\n",
              "0                   NaN                NaN                            NaN   \n",
              "1                   0.0                0.0                            0.0   \n",
              "2                   0.0                0.0                            0.0   \n",
              "3                   0.0                0.0                            0.0   \n",
              "4                   0.0                0.0                            0.0   \n",
              "\n",
              "  DataStatus_SolarRadiationUID_2,0m DataStatus_StabilityUID_2,0m  \\\n",
              "0                               NaN                          NaN   \n",
              "1                               0.0                          0.0   \n",
              "2                               0.0                          0.0   \n",
              "3                               0.0                          0.0   \n",
              "4                               0.0                          0.0   \n",
              "\n",
              "  DataStatus_RelativeHumidityUID_2,0m  Unnamed: 26  \n",
              "0                                 NaN          NaN  \n",
              "1                                 0.0          NaN  \n",
              "2                                 0.0          NaN  \n",
              "3                                 0.0          NaN  \n",
              "4                                 0.0          NaN  \n",
              "\n",
              "[5 rows x 27 columns]"
            ],
            "text/html": [
              "\n",
              "  <div id=\"df-3e9c49bc-f612-48c6-a5ce-40898ab12398\">\n",
              "    <div class=\"colab-df-container\">\n",
              "      <div>\n",
              "<style scoped>\n",
              "    .dataframe tbody tr th:only-of-type {\n",
              "        vertical-align: middle;\n",
              "    }\n",
              "\n",
              "    .dataframe tbody tr th {\n",
              "        vertical-align: top;\n",
              "    }\n",
              "\n",
              "    .dataframe thead th {\n",
              "        text-align: right;\n",
              "    }\n",
              "</style>\n",
              "<table border=\"1\" class=\"dataframe\">\n",
              "  <thead>\n",
              "    <tr style=\"text-align: right;\">\n",
              "      <th></th>\n",
              "      <th>TimeStamp</th>\n",
              "      <th>MeanWindSpeedUID_10,0m|Mean wind speed|L-1,00|U75,00</th>\n",
              "      <th>DirectionUID_10,0m|Wind direction|L0,00|U360,00</th>\n",
              "      <th>Comment_10,0m</th>\n",
              "      <th>TimeStampStatus_10,0m</th>\n",
              "      <th>SampleStatus_10,0m</th>\n",
              "      <th>DataStatus_MeanWindSpeedUID_10,0m</th>\n",
              "      <th>DataStatus_DirectionUID_10,0m</th>\n",
              "      <th>MeanWindSpeedUID_100,0m|Mean wind speed|L-1,00|U75,00</th>\n",
              "      <th>DirectionUID_100,0m|Wind direction|L0,00|U360,00</th>\n",
              "      <th>...</th>\n",
              "      <th>StabilityUID_2,0m|Stability (1/L)</th>\n",
              "      <th>RelativeHumidityUID_2,0m|Relative humidity|L0,00|U100,00</th>\n",
              "      <th>Comment_2,0m</th>\n",
              "      <th>TimeStampStatus_2,0m</th>\n",
              "      <th>SampleStatus_2,0m</th>\n",
              "      <th>DataStatus_TemperatureUID_2,0m</th>\n",
              "      <th>DataStatus_SolarRadiationUID_2,0m</th>\n",
              "      <th>DataStatus_StabilityUID_2,0m</th>\n",
              "      <th>DataStatus_RelativeHumidityUID_2,0m</th>\n",
              "      <th>Unnamed: 26</th>\n",
              "    </tr>\n",
              "  </thead>\n",
              "  <tbody>\n",
              "    <tr>\n",
              "      <th>0</th>\n",
              "      <td>NaN</td>\n",
              "      <td>[m/s]</td>\n",
              "      <td>[Degrees]</td>\n",
              "      <td>NaN</td>\n",
              "      <td>NaN</td>\n",
              "      <td>NaN</td>\n",
              "      <td>NaN</td>\n",
              "      <td>NaN</td>\n",
              "      <td>[m/s]</td>\n",
              "      <td>[Degrees]</td>\n",
              "      <td>...</td>\n",
              "      <td>[1/m]</td>\n",
              "      <td>[%]</td>\n",
              "      <td>NaN</td>\n",
              "      <td>NaN</td>\n",
              "      <td>NaN</td>\n",
              "      <td>NaN</td>\n",
              "      <td>NaN</td>\n",
              "      <td>NaN</td>\n",
              "      <td>NaN</td>\n",
              "      <td>NaN</td>\n",
              "    </tr>\n",
              "    <tr>\n",
              "      <th>1</th>\n",
              "      <td>01/01/1992 01:00</td>\n",
              "      <td>2,11</td>\n",
              "      <td>290,9</td>\n",
              "      <td>NaN</td>\n",
              "      <td>0.0</td>\n",
              "      <td>0.0</td>\n",
              "      <td>0.0</td>\n",
              "      <td>0.0</td>\n",
              "      <td>3,79</td>\n",
              "      <td>324,1</td>\n",
              "      <td>...</td>\n",
              "      <td>0,190390</td>\n",
              "      <td>84,3</td>\n",
              "      <td>NaN</td>\n",
              "      <td>0.0</td>\n",
              "      <td>0.0</td>\n",
              "      <td>0.0</td>\n",
              "      <td>0.0</td>\n",
              "      <td>0.0</td>\n",
              "      <td>0.0</td>\n",
              "      <td>NaN</td>\n",
              "    </tr>\n",
              "    <tr>\n",
              "      <th>2</th>\n",
              "      <td>01/01/1992 02:00</td>\n",
              "      <td>1,72</td>\n",
              "      <td>281,2</td>\n",
              "      <td>NaN</td>\n",
              "      <td>0.0</td>\n",
              "      <td>0.0</td>\n",
              "      <td>0.0</td>\n",
              "      <td>0.0</td>\n",
              "      <td>3,62</td>\n",
              "      <td>321,1</td>\n",
              "      <td>...</td>\n",
              "      <td>0,232599</td>\n",
              "      <td>84,1</td>\n",
              "      <td>NaN</td>\n",
              "      <td>0.0</td>\n",
              "      <td>0.0</td>\n",
              "      <td>0.0</td>\n",
              "      <td>0.0</td>\n",
              "      <td>0.0</td>\n",
              "      <td>0.0</td>\n",
              "      <td>NaN</td>\n",
              "    </tr>\n",
              "    <tr>\n",
              "      <th>3</th>\n",
              "      <td>01/01/1992 03:00</td>\n",
              "      <td>1,71</td>\n",
              "      <td>276,7</td>\n",
              "      <td>NaN</td>\n",
              "      <td>0.0</td>\n",
              "      <td>0.0</td>\n",
              "      <td>0.0</td>\n",
              "      <td>0.0</td>\n",
              "      <td>3,92</td>\n",
              "      <td>311,5</td>\n",
              "      <td>...</td>\n",
              "      <td>0,512680</td>\n",
              "      <td>85,5</td>\n",
              "      <td>NaN</td>\n",
              "      <td>0.0</td>\n",
              "      <td>0.0</td>\n",
              "      <td>0.0</td>\n",
              "      <td>0.0</td>\n",
              "      <td>0.0</td>\n",
              "      <td>0.0</td>\n",
              "      <td>NaN</td>\n",
              "    </tr>\n",
              "    <tr>\n",
              "      <th>4</th>\n",
              "      <td>01/01/1992 04:00</td>\n",
              "      <td>1,77</td>\n",
              "      <td>276,1</td>\n",
              "      <td>NaN</td>\n",
              "      <td>0.0</td>\n",
              "      <td>0.0</td>\n",
              "      <td>0.0</td>\n",
              "      <td>0.0</td>\n",
              "      <td>4,27</td>\n",
              "      <td>307,2</td>\n",
              "      <td>...</td>\n",
              "      <td>0,536433</td>\n",
              "      <td>88,1</td>\n",
              "      <td>NaN</td>\n",
              "      <td>0.0</td>\n",
              "      <td>0.0</td>\n",
              "      <td>0.0</td>\n",
              "      <td>0.0</td>\n",
              "      <td>0.0</td>\n",
              "      <td>0.0</td>\n",
              "      <td>NaN</td>\n",
              "    </tr>\n",
              "  </tbody>\n",
              "</table>\n",
              "<p>5 rows × 27 columns</p>\n",
              "</div>\n",
              "      <button class=\"colab-df-convert\" onclick=\"convertToInteractive('df-3e9c49bc-f612-48c6-a5ce-40898ab12398')\"\n",
              "              title=\"Convert this dataframe to an interactive table.\"\n",
              "              style=\"display:none;\">\n",
              "        \n",
              "  <svg xmlns=\"http://www.w3.org/2000/svg\" height=\"24px\"viewBox=\"0 0 24 24\"\n",
              "       width=\"24px\">\n",
              "    <path d=\"M0 0h24v24H0V0z\" fill=\"none\"/>\n",
              "    <path d=\"M18.56 5.44l.94 2.06.94-2.06 2.06-.94-2.06-.94-.94-2.06-.94 2.06-2.06.94zm-11 1L8.5 8.5l.94-2.06 2.06-.94-2.06-.94L8.5 2.5l-.94 2.06-2.06.94zm10 10l.94 2.06.94-2.06 2.06-.94-2.06-.94-.94-2.06-.94 2.06-2.06.94z\"/><path d=\"M17.41 7.96l-1.37-1.37c-.4-.4-.92-.59-1.43-.59-.52 0-1.04.2-1.43.59L10.3 9.45l-7.72 7.72c-.78.78-.78 2.05 0 2.83L4 21.41c.39.39.9.59 1.41.59.51 0 1.02-.2 1.41-.59l7.78-7.78 2.81-2.81c.8-.78.8-2.07 0-2.86zM5.41 20L4 18.59l7.72-7.72 1.47 1.35L5.41 20z\"/>\n",
              "  </svg>\n",
              "      </button>\n",
              "      \n",
              "  <style>\n",
              "    .colab-df-container {\n",
              "      display:flex;\n",
              "      flex-wrap:wrap;\n",
              "      gap: 12px;\n",
              "    }\n",
              "\n",
              "    .colab-df-convert {\n",
              "      background-color: #E8F0FE;\n",
              "      border: none;\n",
              "      border-radius: 50%;\n",
              "      cursor: pointer;\n",
              "      display: none;\n",
              "      fill: #1967D2;\n",
              "      height: 32px;\n",
              "      padding: 0 0 0 0;\n",
              "      width: 32px;\n",
              "    }\n",
              "\n",
              "    .colab-df-convert:hover {\n",
              "      background-color: #E2EBFA;\n",
              "      box-shadow: 0px 1px 2px rgba(60, 64, 67, 0.3), 0px 1px 3px 1px rgba(60, 64, 67, 0.15);\n",
              "      fill: #174EA6;\n",
              "    }\n",
              "\n",
              "    [theme=dark] .colab-df-convert {\n",
              "      background-color: #3B4455;\n",
              "      fill: #D2E3FC;\n",
              "    }\n",
              "\n",
              "    [theme=dark] .colab-df-convert:hover {\n",
              "      background-color: #434B5C;\n",
              "      box-shadow: 0px 1px 3px 1px rgba(0, 0, 0, 0.15);\n",
              "      filter: drop-shadow(0px 1px 2px rgba(0, 0, 0, 0.3));\n",
              "      fill: #FFFFFF;\n",
              "    }\n",
              "  </style>\n",
              "\n",
              "      <script>\n",
              "        const buttonEl =\n",
              "          document.querySelector('#df-3e9c49bc-f612-48c6-a5ce-40898ab12398 button.colab-df-convert');\n",
              "        buttonEl.style.display =\n",
              "          google.colab.kernel.accessAllowed ? 'block' : 'none';\n",
              "\n",
              "        async function convertToInteractive(key) {\n",
              "          const element = document.querySelector('#df-3e9c49bc-f612-48c6-a5ce-40898ab12398');\n",
              "          const dataTable =\n",
              "            await google.colab.kernel.invokeFunction('convertToInteractive',\n",
              "                                                     [key], {});\n",
              "          if (!dataTable) return;\n",
              "\n",
              "          const docLinkHtml = 'Like what you see? Visit the ' +\n",
              "            '<a target=\"_blank\" href=https://colab.research.google.com/notebooks/data_table.ipynb>data table notebook</a>'\n",
              "            + ' to learn more about interactive tables.';\n",
              "          element.innerHTML = '';\n",
              "          dataTable['output_type'] = 'display_data';\n",
              "          await google.colab.output.renderOutput(dataTable, element);\n",
              "          const docLink = document.createElement('div');\n",
              "          docLink.innerHTML = docLinkHtml;\n",
              "          element.appendChild(docLink);\n",
              "        }\n",
              "      </script>\n",
              "    </div>\n",
              "  </div>\n",
              "  "
            ]
          },
          "metadata": {},
          "execution_count": 3
        }
      ],
      "source": [
        "df.head()"
      ]
    },
    {
      "cell_type": "code",
      "execution_count": 4,
      "metadata": {
        "id": "WmUl315qey7V"
      },
      "outputs": [],
      "source": [
        "def clean_data(df):\n",
        "  df.drop(0, inplace=True)\n",
        "  df.drop([\"Comment_10,0m\", \"Comment_100,0m\", \"Comment_2,0m\", \"Unnamed: 26\"],\n",
        "          axis = 1, inplace = True)\n",
        "  df[\"TimeStamp\"] = pd.to_datetime(df[\"TimeStamp\"])\n",
        "  df.set_index(\"TimeStamp\", inplace=True)\n",
        "  f = lambda x: float(np.NaN) if (x==\"-\") else float(x.replace(',','.'))\n",
        "  f = np.vectorize(f)\n",
        "  for i in df.columns:\n",
        "    if (i!=\"TimeStamp\"):\n",
        "      if (df[i].dtype == \"object\"):\n",
        "        df[i] = f(df[i])\n",
        "      elif (df[i].std()==0):\n",
        "        df.drop(i, axis = 1, inplace = True)\n",
        "  return df"
      ]
    },
    {
      "cell_type": "code",
      "execution_count": 5,
      "metadata": {
        "id": "9R41tFw0nsjy"
      },
      "outputs": [],
      "source": [
        "df = clean_data(df)"
      ]
    },
    {
      "cell_type": "code",
      "execution_count": 6,
      "metadata": {
        "colab": {
          "base_uri": "https://localhost:8080/",
          "height": 492
        },
        "id": "Rr79P9blBNyD",
        "outputId": "caaedeec-d672-4b4d-8679-f8e139668b3d"
      },
      "outputs": [
        {
          "output_type": "execute_result",
          "data": {
            "text/plain": [
              "                     MeanWindSpeedUID_10,0m|Mean wind speed|L-1,00|U75,00  \\\n",
              "TimeStamp                                                                   \n",
              "1992-01-01 01:00:00                                               2.11      \n",
              "1992-01-01 02:00:00                                               1.72      \n",
              "1992-01-01 03:00:00                                               1.71      \n",
              "1992-01-01 04:00:00                                               1.77      \n",
              "1992-01-01 05:00:00                                               1.75      \n",
              "\n",
              "                     DirectionUID_10,0m|Wind direction|L0,00|U360,00  \\\n",
              "TimeStamp                                                              \n",
              "1992-01-01 01:00:00                                            290.9   \n",
              "1992-01-01 02:00:00                                            281.2   \n",
              "1992-01-01 03:00:00                                            276.7   \n",
              "1992-01-01 04:00:00                                            276.1   \n",
              "1992-01-01 05:00:00                                            279.6   \n",
              "\n",
              "                     MeanWindSpeedUID_100,0m|Mean wind speed|L-1,00|U75,00  \\\n",
              "TimeStamp                                                                    \n",
              "1992-01-01 01:00:00                                               3.79       \n",
              "1992-01-01 02:00:00                                               3.62       \n",
              "1992-01-01 03:00:00                                               3.92       \n",
              "1992-01-01 04:00:00                                               4.27       \n",
              "1992-01-01 05:00:00                                               4.47       \n",
              "\n",
              "                     DirectionUID_100,0m|Wind direction|L0,00|U360,00  \\\n",
              "TimeStamp                                                               \n",
              "1992-01-01 01:00:00                                             324.1   \n",
              "1992-01-01 02:00:00                                             321.1   \n",
              "1992-01-01 03:00:00                                             311.5   \n",
              "1992-01-01 04:00:00                                             307.2   \n",
              "1992-01-01 05:00:00                                             310.3   \n",
              "\n",
              "                     TemperatureUID_2,0m|Temperature|L-50,00|U60,00  \\\n",
              "TimeStamp                                                             \n",
              "1992-01-01 01:00:00                                             4.6   \n",
              "1992-01-01 02:00:00                                             4.7   \n",
              "1992-01-01 03:00:00                                             4.6   \n",
              "1992-01-01 04:00:00                                             4.3   \n",
              "1992-01-01 05:00:00                                             4.1   \n",
              "\n",
              "                     SolarRadiationUID_2,0m|Solar irradiation|L-10,00|U2000,00  \\\n",
              "TimeStamp                                                                        \n",
              "1992-01-01 01:00:00                                                0.0           \n",
              "1992-01-01 02:00:00                                                0.0           \n",
              "1992-01-01 03:00:00                                                0.0           \n",
              "1992-01-01 04:00:00                                                0.0           \n",
              "1992-01-01 05:00:00                                                0.0           \n",
              "\n",
              "                     StabilityUID_2,0m|Stability (1/L)  \\\n",
              "TimeStamp                                                \n",
              "1992-01-01 01:00:00                           0.190390   \n",
              "1992-01-01 02:00:00                           0.232599   \n",
              "1992-01-01 03:00:00                           0.512680   \n",
              "1992-01-01 04:00:00                           0.536433   \n",
              "1992-01-01 05:00:00                           0.350248   \n",
              "\n",
              "                     RelativeHumidityUID_2,0m|Relative humidity|L0,00|U100,00  \\\n",
              "TimeStamp                                                                       \n",
              "1992-01-01 01:00:00                                               84.3          \n",
              "1992-01-01 02:00:00                                               84.1          \n",
              "1992-01-01 03:00:00                                               85.5          \n",
              "1992-01-01 04:00:00                                               88.1          \n",
              "1992-01-01 05:00:00                                               88.4          \n",
              "\n",
              "                     DataStatus_StabilityUID_2,0m  \n",
              "TimeStamp                                          \n",
              "1992-01-01 01:00:00                           0.0  \n",
              "1992-01-01 02:00:00                           0.0  \n",
              "1992-01-01 03:00:00                           0.0  \n",
              "1992-01-01 04:00:00                           0.0  \n",
              "1992-01-01 05:00:00                           0.0  "
            ],
            "text/html": [
              "\n",
              "  <div id=\"df-018dec26-b344-4ef6-a756-3b88add54011\">\n",
              "    <div class=\"colab-df-container\">\n",
              "      <div>\n",
              "<style scoped>\n",
              "    .dataframe tbody tr th:only-of-type {\n",
              "        vertical-align: middle;\n",
              "    }\n",
              "\n",
              "    .dataframe tbody tr th {\n",
              "        vertical-align: top;\n",
              "    }\n",
              "\n",
              "    .dataframe thead th {\n",
              "        text-align: right;\n",
              "    }\n",
              "</style>\n",
              "<table border=\"1\" class=\"dataframe\">\n",
              "  <thead>\n",
              "    <tr style=\"text-align: right;\">\n",
              "      <th></th>\n",
              "      <th>MeanWindSpeedUID_10,0m|Mean wind speed|L-1,00|U75,00</th>\n",
              "      <th>DirectionUID_10,0m|Wind direction|L0,00|U360,00</th>\n",
              "      <th>MeanWindSpeedUID_100,0m|Mean wind speed|L-1,00|U75,00</th>\n",
              "      <th>DirectionUID_100,0m|Wind direction|L0,00|U360,00</th>\n",
              "      <th>TemperatureUID_2,0m|Temperature|L-50,00|U60,00</th>\n",
              "      <th>SolarRadiationUID_2,0m|Solar irradiation|L-10,00|U2000,00</th>\n",
              "      <th>StabilityUID_2,0m|Stability (1/L)</th>\n",
              "      <th>RelativeHumidityUID_2,0m|Relative humidity|L0,00|U100,00</th>\n",
              "      <th>DataStatus_StabilityUID_2,0m</th>\n",
              "    </tr>\n",
              "    <tr>\n",
              "      <th>TimeStamp</th>\n",
              "      <th></th>\n",
              "      <th></th>\n",
              "      <th></th>\n",
              "      <th></th>\n",
              "      <th></th>\n",
              "      <th></th>\n",
              "      <th></th>\n",
              "      <th></th>\n",
              "      <th></th>\n",
              "    </tr>\n",
              "  </thead>\n",
              "  <tbody>\n",
              "    <tr>\n",
              "      <th>1992-01-01 01:00:00</th>\n",
              "      <td>2.11</td>\n",
              "      <td>290.9</td>\n",
              "      <td>3.79</td>\n",
              "      <td>324.1</td>\n",
              "      <td>4.6</td>\n",
              "      <td>0.0</td>\n",
              "      <td>0.190390</td>\n",
              "      <td>84.3</td>\n",
              "      <td>0.0</td>\n",
              "    </tr>\n",
              "    <tr>\n",
              "      <th>1992-01-01 02:00:00</th>\n",
              "      <td>1.72</td>\n",
              "      <td>281.2</td>\n",
              "      <td>3.62</td>\n",
              "      <td>321.1</td>\n",
              "      <td>4.7</td>\n",
              "      <td>0.0</td>\n",
              "      <td>0.232599</td>\n",
              "      <td>84.1</td>\n",
              "      <td>0.0</td>\n",
              "    </tr>\n",
              "    <tr>\n",
              "      <th>1992-01-01 03:00:00</th>\n",
              "      <td>1.71</td>\n",
              "      <td>276.7</td>\n",
              "      <td>3.92</td>\n",
              "      <td>311.5</td>\n",
              "      <td>4.6</td>\n",
              "      <td>0.0</td>\n",
              "      <td>0.512680</td>\n",
              "      <td>85.5</td>\n",
              "      <td>0.0</td>\n",
              "    </tr>\n",
              "    <tr>\n",
              "      <th>1992-01-01 04:00:00</th>\n",
              "      <td>1.77</td>\n",
              "      <td>276.1</td>\n",
              "      <td>4.27</td>\n",
              "      <td>307.2</td>\n",
              "      <td>4.3</td>\n",
              "      <td>0.0</td>\n",
              "      <td>0.536433</td>\n",
              "      <td>88.1</td>\n",
              "      <td>0.0</td>\n",
              "    </tr>\n",
              "    <tr>\n",
              "      <th>1992-01-01 05:00:00</th>\n",
              "      <td>1.75</td>\n",
              "      <td>279.6</td>\n",
              "      <td>4.47</td>\n",
              "      <td>310.3</td>\n",
              "      <td>4.1</td>\n",
              "      <td>0.0</td>\n",
              "      <td>0.350248</td>\n",
              "      <td>88.4</td>\n",
              "      <td>0.0</td>\n",
              "    </tr>\n",
              "  </tbody>\n",
              "</table>\n",
              "</div>\n",
              "      <button class=\"colab-df-convert\" onclick=\"convertToInteractive('df-018dec26-b344-4ef6-a756-3b88add54011')\"\n",
              "              title=\"Convert this dataframe to an interactive table.\"\n",
              "              style=\"display:none;\">\n",
              "        \n",
              "  <svg xmlns=\"http://www.w3.org/2000/svg\" height=\"24px\"viewBox=\"0 0 24 24\"\n",
              "       width=\"24px\">\n",
              "    <path d=\"M0 0h24v24H0V0z\" fill=\"none\"/>\n",
              "    <path d=\"M18.56 5.44l.94 2.06.94-2.06 2.06-.94-2.06-.94-.94-2.06-.94 2.06-2.06.94zm-11 1L8.5 8.5l.94-2.06 2.06-.94-2.06-.94L8.5 2.5l-.94 2.06-2.06.94zm10 10l.94 2.06.94-2.06 2.06-.94-2.06-.94-.94-2.06-.94 2.06-2.06.94z\"/><path d=\"M17.41 7.96l-1.37-1.37c-.4-.4-.92-.59-1.43-.59-.52 0-1.04.2-1.43.59L10.3 9.45l-7.72 7.72c-.78.78-.78 2.05 0 2.83L4 21.41c.39.39.9.59 1.41.59.51 0 1.02-.2 1.41-.59l7.78-7.78 2.81-2.81c.8-.78.8-2.07 0-2.86zM5.41 20L4 18.59l7.72-7.72 1.47 1.35L5.41 20z\"/>\n",
              "  </svg>\n",
              "      </button>\n",
              "      \n",
              "  <style>\n",
              "    .colab-df-container {\n",
              "      display:flex;\n",
              "      flex-wrap:wrap;\n",
              "      gap: 12px;\n",
              "    }\n",
              "\n",
              "    .colab-df-convert {\n",
              "      background-color: #E8F0FE;\n",
              "      border: none;\n",
              "      border-radius: 50%;\n",
              "      cursor: pointer;\n",
              "      display: none;\n",
              "      fill: #1967D2;\n",
              "      height: 32px;\n",
              "      padding: 0 0 0 0;\n",
              "      width: 32px;\n",
              "    }\n",
              "\n",
              "    .colab-df-convert:hover {\n",
              "      background-color: #E2EBFA;\n",
              "      box-shadow: 0px 1px 2px rgba(60, 64, 67, 0.3), 0px 1px 3px 1px rgba(60, 64, 67, 0.15);\n",
              "      fill: #174EA6;\n",
              "    }\n",
              "\n",
              "    [theme=dark] .colab-df-convert {\n",
              "      background-color: #3B4455;\n",
              "      fill: #D2E3FC;\n",
              "    }\n",
              "\n",
              "    [theme=dark] .colab-df-convert:hover {\n",
              "      background-color: #434B5C;\n",
              "      box-shadow: 0px 1px 3px 1px rgba(0, 0, 0, 0.15);\n",
              "      filter: drop-shadow(0px 1px 2px rgba(0, 0, 0, 0.3));\n",
              "      fill: #FFFFFF;\n",
              "    }\n",
              "  </style>\n",
              "\n",
              "      <script>\n",
              "        const buttonEl =\n",
              "          document.querySelector('#df-018dec26-b344-4ef6-a756-3b88add54011 button.colab-df-convert');\n",
              "        buttonEl.style.display =\n",
              "          google.colab.kernel.accessAllowed ? 'block' : 'none';\n",
              "\n",
              "        async function convertToInteractive(key) {\n",
              "          const element = document.querySelector('#df-018dec26-b344-4ef6-a756-3b88add54011');\n",
              "          const dataTable =\n",
              "            await google.colab.kernel.invokeFunction('convertToInteractive',\n",
              "                                                     [key], {});\n",
              "          if (!dataTable) return;\n",
              "\n",
              "          const docLinkHtml = 'Like what you see? Visit the ' +\n",
              "            '<a target=\"_blank\" href=https://colab.research.google.com/notebooks/data_table.ipynb>data table notebook</a>'\n",
              "            + ' to learn more about interactive tables.';\n",
              "          element.innerHTML = '';\n",
              "          dataTable['output_type'] = 'display_data';\n",
              "          await google.colab.output.renderOutput(dataTable, element);\n",
              "          const docLink = document.createElement('div');\n",
              "          docLink.innerHTML = docLinkHtml;\n",
              "          element.appendChild(docLink);\n",
              "        }\n",
              "      </script>\n",
              "    </div>\n",
              "  </div>\n",
              "  "
            ]
          },
          "metadata": {},
          "execution_count": 6
        }
      ],
      "source": [
        "df.head()"
      ]
    },
    {
      "cell_type": "code",
      "execution_count": 7,
      "metadata": {
        "colab": {
          "base_uri": "https://localhost:8080/"
        },
        "id": "2EM7h715D36x",
        "outputId": "6cf06a67-5f09-4fd4-dd3b-ebb9fe207726"
      },
      "outputs": [
        {
          "output_type": "execute_result",
          "data": {
            "text/plain": [
              "(262992, 9)"
            ]
          },
          "metadata": {},
          "execution_count": 7
        }
      ],
      "source": [
        "df.shape"
      ]
    },
    {
      "cell_type": "code",
      "execution_count": 8,
      "metadata": {
        "colab": {
          "base_uri": "https://localhost:8080/"
        },
        "id": "NkskcY3yoYz5",
        "outputId": "4c79c999-e32d-4b8c-fe1f-0fd7bb5166e1"
      },
      "outputs": [
        {
          "output_type": "stream",
          "name": "stdout",
          "text": [
            "<class 'pandas.core.frame.DataFrame'>\n",
            "DatetimeIndex: 262992 entries, 1992-01-01 01:00:00 to 2022-01-01 00:00:00\n",
            "Data columns (total 9 columns):\n",
            " #   Column                                                     Non-Null Count   Dtype  \n",
            "---  ------                                                     --------------   -----  \n",
            " 0   MeanWindSpeedUID_10,0m|Mean wind speed|L-1,00|U75,00       262992 non-null  float64\n",
            " 1   DirectionUID_10,0m|Wind direction|L0,00|U360,00            262992 non-null  float64\n",
            " 2   MeanWindSpeedUID_100,0m|Mean wind speed|L-1,00|U75,00      262992 non-null  float64\n",
            " 3   DirectionUID_100,0m|Wind direction|L0,00|U360,00           262992 non-null  float64\n",
            " 4   TemperatureUID_2,0m|Temperature|L-50,00|U60,00             262992 non-null  float64\n",
            " 5   SolarRadiationUID_2,0m|Solar irradiation|L-10,00|U2000,00  262992 non-null  float64\n",
            " 6   StabilityUID_2,0m|Stability (1/L)                          262984 non-null  float64\n",
            " 7   RelativeHumidityUID_2,0m|Relative humidity|L0,00|U100,00   262992 non-null  float64\n",
            " 8   DataStatus_StabilityUID_2,0m                               262992 non-null  float64\n",
            "dtypes: float64(9)\n",
            "memory usage: 20.1 MB\n"
          ]
        }
      ],
      "source": [
        "df.info()"
      ]
    },
    {
      "cell_type": "code",
      "execution_count": 9,
      "metadata": {
        "colab": {
          "base_uri": "https://localhost:8080/",
          "height": 382
        },
        "id": "oGkT_axFpBEL",
        "outputId": "fb3a1371-9c69-4115-a0e2-2861325b9c75"
      },
      "outputs": [
        {
          "output_type": "execute_result",
          "data": {
            "text/plain": [
              "       MeanWindSpeedUID_10,0m|Mean wind speed|L-1,00|U75,00  \\\n",
              "count                                      262992.000000      \n",
              "mean                                            2.946974      \n",
              "std                                             1.539129      \n",
              "min                                             0.000000      \n",
              "25%                                             1.800000      \n",
              "50%                                             2.640000      \n",
              "75%                                             3.870000      \n",
              "max                                            13.030000      \n",
              "\n",
              "       DirectionUID_10,0m|Wind direction|L0,00|U360,00  \\\n",
              "count                                    262992.000000   \n",
              "mean                                        181.425148   \n",
              "std                                         110.790483   \n",
              "min                                           0.000000   \n",
              "25%                                          83.000000   \n",
              "50%                                         179.700000   \n",
              "75%                                         287.700000   \n",
              "max                                         359.900000   \n",
              "\n",
              "       MeanWindSpeedUID_100,0m|Mean wind speed|L-1,00|U75,00  \\\n",
              "count                                      262992.000000       \n",
              "mean                                            4.878747       \n",
              "std                                             2.385734       \n",
              "min                                             0.010000       \n",
              "25%                                             3.080000       \n",
              "50%                                             4.770000       \n",
              "75%                                             6.440000       \n",
              "max                                            20.200000       \n",
              "\n",
              "       DirectionUID_100,0m|Wind direction|L0,00|U360,00  \\\n",
              "count                                     262992.000000   \n",
              "mean                                         182.786023   \n",
              "std                                          112.384618   \n",
              "min                                            0.000000   \n",
              "25%                                           81.200000   \n",
              "50%                                          182.200000   \n",
              "75%                                          293.600000   \n",
              "max                                          359.900000   \n",
              "\n",
              "       TemperatureUID_2,0m|Temperature|L-50,00|U60,00  \\\n",
              "count                                   262992.000000   \n",
              "mean                                        20.454083   \n",
              "std                                          7.789131   \n",
              "min                                          0.400000   \n",
              "25%                                         14.300000   \n",
              "50%                                         20.100000   \n",
              "75%                                         25.900000   \n",
              "max                                         46.900000   \n",
              "\n",
              "       SolarRadiationUID_2,0m|Solar irradiation|L-10,00|U2000,00  \\\n",
              "count                                      262992.000000           \n",
              "mean                                          213.372934           \n",
              "std                                           290.923638           \n",
              "min                                             0.000000           \n",
              "25%                                             0.000000           \n",
              "50%                                            10.580000           \n",
              "75%                                           408.920000           \n",
              "max                                           998.630000           \n",
              "\n",
              "       StabilityUID_2,0m|Stability (1/L)  \\\n",
              "count                      262984.000000   \n",
              "mean                          -11.667888   \n",
              "std                          2126.417138   \n",
              "min                       -747433.875000   \n",
              "25%                            -0.056436   \n",
              "50%                             0.011801   \n",
              "75%                             0.116250   \n",
              "max                        112017.484375   \n",
              "\n",
              "       RelativeHumidityUID_2,0m|Relative humidity|L0,00|U100,00  \\\n",
              "count                                      262992.000000          \n",
              "mean                                           61.123756          \n",
              "std                                            20.362745          \n",
              "min                                             5.700000          \n",
              "25%                                            44.700000          \n",
              "50%                                            61.500000          \n",
              "75%                                            78.300000          \n",
              "max                                           100.000000          \n",
              "\n",
              "       DataStatus_StabilityUID_2,0m  \n",
              "count                 262992.000000  \n",
              "mean                       0.000973  \n",
              "std                        0.176489  \n",
              "min                        0.000000  \n",
              "25%                        0.000000  \n",
              "50%                        0.000000  \n",
              "75%                        0.000000  \n",
              "max                       32.000000  "
            ],
            "text/html": [
              "\n",
              "  <div id=\"df-bcc2a71d-ad4a-43e4-a681-9660c58b16ef\">\n",
              "    <div class=\"colab-df-container\">\n",
              "      <div>\n",
              "<style scoped>\n",
              "    .dataframe tbody tr th:only-of-type {\n",
              "        vertical-align: middle;\n",
              "    }\n",
              "\n",
              "    .dataframe tbody tr th {\n",
              "        vertical-align: top;\n",
              "    }\n",
              "\n",
              "    .dataframe thead th {\n",
              "        text-align: right;\n",
              "    }\n",
              "</style>\n",
              "<table border=\"1\" class=\"dataframe\">\n",
              "  <thead>\n",
              "    <tr style=\"text-align: right;\">\n",
              "      <th></th>\n",
              "      <th>MeanWindSpeedUID_10,0m|Mean wind speed|L-1,00|U75,00</th>\n",
              "      <th>DirectionUID_10,0m|Wind direction|L0,00|U360,00</th>\n",
              "      <th>MeanWindSpeedUID_100,0m|Mean wind speed|L-1,00|U75,00</th>\n",
              "      <th>DirectionUID_100,0m|Wind direction|L0,00|U360,00</th>\n",
              "      <th>TemperatureUID_2,0m|Temperature|L-50,00|U60,00</th>\n",
              "      <th>SolarRadiationUID_2,0m|Solar irradiation|L-10,00|U2000,00</th>\n",
              "      <th>StabilityUID_2,0m|Stability (1/L)</th>\n",
              "      <th>RelativeHumidityUID_2,0m|Relative humidity|L0,00|U100,00</th>\n",
              "      <th>DataStatus_StabilityUID_2,0m</th>\n",
              "    </tr>\n",
              "  </thead>\n",
              "  <tbody>\n",
              "    <tr>\n",
              "      <th>count</th>\n",
              "      <td>262992.000000</td>\n",
              "      <td>262992.000000</td>\n",
              "      <td>262992.000000</td>\n",
              "      <td>262992.000000</td>\n",
              "      <td>262992.000000</td>\n",
              "      <td>262992.000000</td>\n",
              "      <td>262984.000000</td>\n",
              "      <td>262992.000000</td>\n",
              "      <td>262992.000000</td>\n",
              "    </tr>\n",
              "    <tr>\n",
              "      <th>mean</th>\n",
              "      <td>2.946974</td>\n",
              "      <td>181.425148</td>\n",
              "      <td>4.878747</td>\n",
              "      <td>182.786023</td>\n",
              "      <td>20.454083</td>\n",
              "      <td>213.372934</td>\n",
              "      <td>-11.667888</td>\n",
              "      <td>61.123756</td>\n",
              "      <td>0.000973</td>\n",
              "    </tr>\n",
              "    <tr>\n",
              "      <th>std</th>\n",
              "      <td>1.539129</td>\n",
              "      <td>110.790483</td>\n",
              "      <td>2.385734</td>\n",
              "      <td>112.384618</td>\n",
              "      <td>7.789131</td>\n",
              "      <td>290.923638</td>\n",
              "      <td>2126.417138</td>\n",
              "      <td>20.362745</td>\n",
              "      <td>0.176489</td>\n",
              "    </tr>\n",
              "    <tr>\n",
              "      <th>min</th>\n",
              "      <td>0.000000</td>\n",
              "      <td>0.000000</td>\n",
              "      <td>0.010000</td>\n",
              "      <td>0.000000</td>\n",
              "      <td>0.400000</td>\n",
              "      <td>0.000000</td>\n",
              "      <td>-747433.875000</td>\n",
              "      <td>5.700000</td>\n",
              "      <td>0.000000</td>\n",
              "    </tr>\n",
              "    <tr>\n",
              "      <th>25%</th>\n",
              "      <td>1.800000</td>\n",
              "      <td>83.000000</td>\n",
              "      <td>3.080000</td>\n",
              "      <td>81.200000</td>\n",
              "      <td>14.300000</td>\n",
              "      <td>0.000000</td>\n",
              "      <td>-0.056436</td>\n",
              "      <td>44.700000</td>\n",
              "      <td>0.000000</td>\n",
              "    </tr>\n",
              "    <tr>\n",
              "      <th>50%</th>\n",
              "      <td>2.640000</td>\n",
              "      <td>179.700000</td>\n",
              "      <td>4.770000</td>\n",
              "      <td>182.200000</td>\n",
              "      <td>20.100000</td>\n",
              "      <td>10.580000</td>\n",
              "      <td>0.011801</td>\n",
              "      <td>61.500000</td>\n",
              "      <td>0.000000</td>\n",
              "    </tr>\n",
              "    <tr>\n",
              "      <th>75%</th>\n",
              "      <td>3.870000</td>\n",
              "      <td>287.700000</td>\n",
              "      <td>6.440000</td>\n",
              "      <td>293.600000</td>\n",
              "      <td>25.900000</td>\n",
              "      <td>408.920000</td>\n",
              "      <td>0.116250</td>\n",
              "      <td>78.300000</td>\n",
              "      <td>0.000000</td>\n",
              "    </tr>\n",
              "    <tr>\n",
              "      <th>max</th>\n",
              "      <td>13.030000</td>\n",
              "      <td>359.900000</td>\n",
              "      <td>20.200000</td>\n",
              "      <td>359.900000</td>\n",
              "      <td>46.900000</td>\n",
              "      <td>998.630000</td>\n",
              "      <td>112017.484375</td>\n",
              "      <td>100.000000</td>\n",
              "      <td>32.000000</td>\n",
              "    </tr>\n",
              "  </tbody>\n",
              "</table>\n",
              "</div>\n",
              "      <button class=\"colab-df-convert\" onclick=\"convertToInteractive('df-bcc2a71d-ad4a-43e4-a681-9660c58b16ef')\"\n",
              "              title=\"Convert this dataframe to an interactive table.\"\n",
              "              style=\"display:none;\">\n",
              "        \n",
              "  <svg xmlns=\"http://www.w3.org/2000/svg\" height=\"24px\"viewBox=\"0 0 24 24\"\n",
              "       width=\"24px\">\n",
              "    <path d=\"M0 0h24v24H0V0z\" fill=\"none\"/>\n",
              "    <path d=\"M18.56 5.44l.94 2.06.94-2.06 2.06-.94-2.06-.94-.94-2.06-.94 2.06-2.06.94zm-11 1L8.5 8.5l.94-2.06 2.06-.94-2.06-.94L8.5 2.5l-.94 2.06-2.06.94zm10 10l.94 2.06.94-2.06 2.06-.94-2.06-.94-.94-2.06-.94 2.06-2.06.94z\"/><path d=\"M17.41 7.96l-1.37-1.37c-.4-.4-.92-.59-1.43-.59-.52 0-1.04.2-1.43.59L10.3 9.45l-7.72 7.72c-.78.78-.78 2.05 0 2.83L4 21.41c.39.39.9.59 1.41.59.51 0 1.02-.2 1.41-.59l7.78-7.78 2.81-2.81c.8-.78.8-2.07 0-2.86zM5.41 20L4 18.59l7.72-7.72 1.47 1.35L5.41 20z\"/>\n",
              "  </svg>\n",
              "      </button>\n",
              "      \n",
              "  <style>\n",
              "    .colab-df-container {\n",
              "      display:flex;\n",
              "      flex-wrap:wrap;\n",
              "      gap: 12px;\n",
              "    }\n",
              "\n",
              "    .colab-df-convert {\n",
              "      background-color: #E8F0FE;\n",
              "      border: none;\n",
              "      border-radius: 50%;\n",
              "      cursor: pointer;\n",
              "      display: none;\n",
              "      fill: #1967D2;\n",
              "      height: 32px;\n",
              "      padding: 0 0 0 0;\n",
              "      width: 32px;\n",
              "    }\n",
              "\n",
              "    .colab-df-convert:hover {\n",
              "      background-color: #E2EBFA;\n",
              "      box-shadow: 0px 1px 2px rgba(60, 64, 67, 0.3), 0px 1px 3px 1px rgba(60, 64, 67, 0.15);\n",
              "      fill: #174EA6;\n",
              "    }\n",
              "\n",
              "    [theme=dark] .colab-df-convert {\n",
              "      background-color: #3B4455;\n",
              "      fill: #D2E3FC;\n",
              "    }\n",
              "\n",
              "    [theme=dark] .colab-df-convert:hover {\n",
              "      background-color: #434B5C;\n",
              "      box-shadow: 0px 1px 3px 1px rgba(0, 0, 0, 0.15);\n",
              "      filter: drop-shadow(0px 1px 2px rgba(0, 0, 0, 0.3));\n",
              "      fill: #FFFFFF;\n",
              "    }\n",
              "  </style>\n",
              "\n",
              "      <script>\n",
              "        const buttonEl =\n",
              "          document.querySelector('#df-bcc2a71d-ad4a-43e4-a681-9660c58b16ef button.colab-df-convert');\n",
              "        buttonEl.style.display =\n",
              "          google.colab.kernel.accessAllowed ? 'block' : 'none';\n",
              "\n",
              "        async function convertToInteractive(key) {\n",
              "          const element = document.querySelector('#df-bcc2a71d-ad4a-43e4-a681-9660c58b16ef');\n",
              "          const dataTable =\n",
              "            await google.colab.kernel.invokeFunction('convertToInteractive',\n",
              "                                                     [key], {});\n",
              "          if (!dataTable) return;\n",
              "\n",
              "          const docLinkHtml = 'Like what you see? Visit the ' +\n",
              "            '<a target=\"_blank\" href=https://colab.research.google.com/notebooks/data_table.ipynb>data table notebook</a>'\n",
              "            + ' to learn more about interactive tables.';\n",
              "          element.innerHTML = '';\n",
              "          dataTable['output_type'] = 'display_data';\n",
              "          await google.colab.output.renderOutput(dataTable, element);\n",
              "          const docLink = document.createElement('div');\n",
              "          docLink.innerHTML = docLinkHtml;\n",
              "          element.appendChild(docLink);\n",
              "        }\n",
              "      </script>\n",
              "    </div>\n",
              "  </div>\n",
              "  "
            ]
          },
          "metadata": {},
          "execution_count": 9
        }
      ],
      "source": [
        "df.describe()"
      ]
    },
    {
      "cell_type": "code",
      "execution_count": 10,
      "metadata": {
        "id": "UX6W-1LXAJ_K"
      },
      "outputs": [],
      "source": [
        "Solar = df[['SolarRadiationUID_2,0m|Solar irradiation|L-10,00|U2000,00',\n",
        "                ]].resample('1W').max().reset_index(drop=False) "
      ]
    },
    {
      "cell_type": "code",
      "source": [
        "rs1 = MinMaxScaler()\n",
        "\n",
        "Solar_scaled = rs1.fit_transform(Solar[['SolarRadiationUID_2,0m|Solar irradiation|L-10,00|U2000,00']])"
      ],
      "metadata": {
        "id": "S0j70oYB9gqL"
      },
      "execution_count": 11,
      "outputs": []
    },
    {
      "cell_type": "code",
      "source": [
        "train_size = int(0.85 * len(Solar_scaled))\n",
        "test_size = len(Solar_scaled) - train_size"
      ],
      "metadata": {
        "id": "8n7dxaIW9ggK"
      },
      "execution_count": 12,
      "outputs": []
    },
    {
      "cell_type": "code",
      "source": [
        "n_lookback = 104  # length of input sequences (lookback period)\n",
        "n_forecast = 104  # length of output sequences (forecast period)\n",
        "\n",
        "X = []\n",
        "Y = []\n",
        "\n",
        "y = Solar_scaled.copy()\n",
        "\n",
        "for i in range(n_lookback, len(y) - n_forecast + 1):\n",
        "    X.append(y[i - n_lookback: i])\n",
        "    Y.append(y[i: i + n_forecast])\n",
        "\n",
        "X = np.array(X)\n",
        "Y = np.array(Y)\n",
        "\n",
        "x_train, x_test = X[:train_size], X[train_size:]\n",
        "y_train, y_test = Y[:train_size], Y[train_size:]"
      ],
      "metadata": {
        "id": "bjSGzhX4y2Jy"
      },
      "execution_count": 13,
      "outputs": []
    },
    {
      "cell_type": "code",
      "source": [
        "x_train.shape"
      ],
      "metadata": {
        "colab": {
          "base_uri": "https://localhost:8080/"
        },
        "id": "mCJ8VgCZGjr6",
        "outputId": "0e256bb2-a3cf-4332-f98c-d1176598a69c"
      },
      "execution_count": 14,
      "outputs": [
        {
          "output_type": "execute_result",
          "data": {
            "text/plain": [
              "(1331, 104, 1)"
            ]
          },
          "metadata": {},
          "execution_count": 14
        }
      ]
    },
    {
      "cell_type": "code",
      "source": [
        "x_test.shape"
      ],
      "metadata": {
        "colab": {
          "base_uri": "https://localhost:8080/"
        },
        "id": "iuu1ddT5Go1w",
        "outputId": "c5430207-0059-4b06-cbf4-83f215bcc829"
      },
      "execution_count": 15,
      "outputs": [
        {
          "output_type": "execute_result",
          "data": {
            "text/plain": [
              "(28, 104, 1)"
            ]
          },
          "metadata": {},
          "execution_count": 15
        }
      ]
    },
    {
      "cell_type": "code",
      "source": [
        "y_train.shape"
      ],
      "metadata": {
        "colab": {
          "base_uri": "https://localhost:8080/"
        },
        "id": "3Zs6YI_2Gqlm",
        "outputId": "64e4a6a3-3dfb-4fce-de8e-1e7b55ad1d77"
      },
      "execution_count": 16,
      "outputs": [
        {
          "output_type": "execute_result",
          "data": {
            "text/plain": [
              "(1331, 104, 1)"
            ]
          },
          "metadata": {},
          "execution_count": 16
        }
      ]
    },
    {
      "cell_type": "code",
      "source": [
        "y_test.shape"
      ],
      "metadata": {
        "colab": {
          "base_uri": "https://localhost:8080/"
        },
        "id": "uxE8NaTfzEja",
        "outputId": "91d45920-4dc5-44f3-f5f5-99bf50cb6db4"
      },
      "execution_count": 17,
      "outputs": [
        {
          "output_type": "execute_result",
          "data": {
            "text/plain": [
              "(28, 104, 1)"
            ]
          },
          "metadata": {},
          "execution_count": 17
        }
      ]
    },
    {
      "cell_type": "code",
      "source": [
        "from keras.models import Sequential\n",
        "import tensorflow as tf\n",
        "from keras.layers import Dense, LSTM, Dropout, BatchNormalization"
      ],
      "metadata": {
        "id": "QC-JWAY09gI3"
      },
      "execution_count": 18,
      "outputs": []
    },
    {
      "cell_type": "code",
      "source": [
        "\n",
        "model = Sequential()\n",
        "model.add(LSTM(units=128, return_sequences=True, input_shape=(n_lookback, 1)))\n",
        "model.add(Dropout(0.5))\n",
        "model.add(BatchNormalization())\n",
        "model.add(LSTM(units=256, return_sequences=True))\n",
        "model.add(Dropout(0.5))\n",
        "model.add(BatchNormalization())\n",
        "model.add(LSTM(units=128))\n",
        "model.add(Dropout(0.5))\n",
        "model.add(BatchNormalization())\n",
        "model.add(Dense(n_forecast))\n",
        "model.compile(loss='mean_squared_error', optimizer='adam')\n",
        "history = model.fit(X, Y, epochs=20, batch_size=32, validation_data=(x_test, y_test), verbose=1)"
      ],
      "metadata": {
        "colab": {
          "base_uri": "https://localhost:8080/"
        },
        "id": "SK4RAuE5zybG",
        "outputId": "a40af3c3-3e96-40cf-cd92-b1c9f5276ce3"
      },
      "execution_count": 19,
      "outputs": [
        {
          "output_type": "stream",
          "name": "stdout",
          "text": [
            "Epoch 1/20\n",
            "43/43 [==============================] - 12s 47ms/step - loss: 1.1571 - val_loss: 0.4859\n",
            "Epoch 2/20\n",
            "43/43 [==============================] - 1s 22ms/step - loss: 0.7346 - val_loss: 0.2667\n",
            "Epoch 3/20\n",
            "43/43 [==============================] - 1s 22ms/step - loss: 0.4300 - val_loss: 0.1044\n",
            "Epoch 4/20\n",
            "43/43 [==============================] - 1s 22ms/step - loss: 0.2668 - val_loss: 0.0592\n",
            "Epoch 5/20\n",
            "43/43 [==============================] - 1s 22ms/step - loss: 0.2043 - val_loss: 0.0544\n",
            "Epoch 6/20\n",
            "43/43 [==============================] - 1s 22ms/step - loss: 0.1623 - val_loss: 0.0508\n",
            "Epoch 7/20\n",
            "43/43 [==============================] - 1s 22ms/step - loss: 0.1335 - val_loss: 0.0554\n",
            "Epoch 8/20\n",
            "43/43 [==============================] - 1s 22ms/step - loss: 0.1110 - val_loss: 0.0529\n",
            "Epoch 9/20\n",
            "43/43 [==============================] - 1s 22ms/step - loss: 0.0960 - val_loss: 0.0466\n",
            "Epoch 10/20\n",
            "43/43 [==============================] - 1s 22ms/step - loss: 0.0844 - val_loss: 0.0472\n",
            "Epoch 11/20\n",
            "43/43 [==============================] - 1s 21ms/step - loss: 0.0770 - val_loss: 0.0457\n",
            "Epoch 12/20\n",
            "43/43 [==============================] - 1s 21ms/step - loss: 0.0729 - val_loss: 0.0458\n",
            "Epoch 13/20\n",
            "43/43 [==============================] - 1s 22ms/step - loss: 0.0674 - val_loss: 0.0465\n",
            "Epoch 14/20\n",
            "43/43 [==============================] - 1s 22ms/step - loss: 0.0652 - val_loss: 0.0449\n",
            "Epoch 15/20\n",
            "43/43 [==============================] - 1s 22ms/step - loss: 0.0627 - val_loss: 0.0459\n",
            "Epoch 16/20\n",
            "43/43 [==============================] - 1s 22ms/step - loss: 0.0604 - val_loss: 0.0462\n",
            "Epoch 17/20\n",
            "43/43 [==============================] - 1s 22ms/step - loss: 0.0598 - val_loss: 0.0465\n",
            "Epoch 18/20\n",
            "43/43 [==============================] - 1s 22ms/step - loss: 0.0582 - val_loss: 0.0450\n",
            "Epoch 19/20\n",
            "43/43 [==============================] - 1s 22ms/step - loss: 0.0571 - val_loss: 0.0465\n",
            "Epoch 20/20\n",
            "43/43 [==============================] - 1s 22ms/step - loss: 0.0575 - val_loss: 0.0449\n"
          ]
        }
      ]
    },
    {
      "cell_type": "code",
      "source": [
        "plt.figure(figsize = (12,8))\n",
        "plt.plot(history.history['loss'], label = \"Training loss\")\n",
        "plt.plot(history.history['val_loss'], label = \"Validation loss\")\n",
        "plt.legend()"
      ],
      "metadata": {
        "colab": {
          "base_uri": "https://localhost:8080/",
          "height": 500
        },
        "id": "0Bjks4Sj3Whf",
        "outputId": "e6e63e92-0ea3-4864-b42d-f6d6c6d0cbd9"
      },
      "execution_count": 20,
      "outputs": [
        {
          "output_type": "execute_result",
          "data": {
            "text/plain": [
              "<matplotlib.legend.Legend at 0x7f2764fdedd0>"
            ]
          },
          "metadata": {},
          "execution_count": 20
        },
        {
          "output_type": "display_data",
          "data": {
            "text/plain": [
              "<Figure size 864x576 with 1 Axes>"
            ],
            "image/png": "[encoded data removed]"
          },
          "metadata": {
            "needs_background": "light"
          }
        }
      ]
    },
    {
      "cell_type": "code",
      "source": [
        "all = []"
      ],
      "metadata": {
        "id": "T9e6BFZmGgZM"
      },
      "execution_count": 21,
      "outputs": []
    },
    {
      "cell_type": "code",
      "source": [
        "# generate the forecasts\n",
        "X_ = y[- n_lookback:]  # last available input sequence\n",
        "X_ = X_.reshape(1, n_lookback, 1)\n",
        "\n",
        "Y_ = model.predict(X_).reshape(-1, 1)\n",
        "firstyear = rs1.inverse_transform(Y_).copy()"
      ],
      "metadata": {
        "id": "O5tsoNlG0b6Q"
      },
      "execution_count": 22,
      "outputs": []
    },
    {
      "cell_type": "code",
      "source": [
        "plt.plot(firstyear)"
      ],
      "metadata": {
        "colab": {
          "base_uri": "https://localhost:8080/",
          "height": 282
        },
        "id": "LiH3gJA0GikI",
        "outputId": "9783b544-6b8d-492e-93ab-bee4bb9f4964"
      },
      "execution_count": 23,
      "outputs": [
        {
          "output_type": "execute_result",
          "data": {
            "text/plain": [
              "[<matplotlib.lines.Line2D at 0x7f27657d2950>]"
            ]
          },
          "metadata": {},
          "execution_count": 23
        },
        {
          "output_type": "display_data",
          "data": {
            "text/plain": [
              "<Figure size 432x288 with 1 Axes>"
            ],
            "image/png": "[encoded data removed]"
          },
          "metadata": {
            "needs_background": "light"
          }
        }
      ]
    },
    {
      "cell_type": "code",
      "source": [
        "all.extend(list(firstyear.reshape((-1))))"
      ],
      "metadata": {
        "id": "3dno3wboGkvf"
      },
      "execution_count": 24,
      "outputs": []
    },
    {
      "cell_type": "code",
      "source": [
        "X_ = Y_[- n_lookback:]  # last available input sequence\n",
        "X_ = X_.reshape(1, n_lookback, 1)\n",
        "\n",
        "Y_ = model.predict(X_).reshape(-1, 1)\n",
        "secondyear = rs1.inverse_transform(Y_).copy()"
      ],
      "metadata": {
        "id": "NZYPhvub_5Am"
      },
      "execution_count": 25,
      "outputs": []
    },
    {
      "cell_type": "code",
      "source": [
        "plt.plot(secondyear)"
      ],
      "metadata": {
        "colab": {
          "base_uri": "https://localhost:8080/",
          "height": 282
        },
        "id": "ux91efptGstX",
        "outputId": "6d868e1a-fcb6-4614-86bd-cc20a25ae78d"
      },
      "execution_count": 26,
      "outputs": [
        {
          "output_type": "execute_result",
          "data": {
            "text/plain": [
              "[<matplotlib.lines.Line2D at 0x7f27657628d0>]"
            ]
          },
          "metadata": {},
          "execution_count": 26
        },
        {
          "output_type": "display_data",
          "data": {
            "text/plain": [
              "<Figure size 432x288 with 1 Axes>"
            ],
            "image/png": "[encoded data removed]"
          },
          "metadata": {
            "needs_background": "light"
          }
        }
      ]
    },
    {
      "cell_type": "code",
      "source": [
        "all.extend(list(secondyear.reshape((-1))))"
      ],
      "metadata": {
        "id": "DzWp9dgAGya2"
      },
      "execution_count": 27,
      "outputs": []
    },
    {
      "cell_type": "code",
      "source": [
        "X_ = Y_[- n_lookback:]  # last available input sequence\n",
        "X_ = X_.reshape(1, n_lookback, 1)\n",
        "\n",
        "Y_ = model.predict(X_).reshape(-1, 1)\n",
        "thirdyear = rs1.inverse_transform(Y_).copy()"
      ],
      "metadata": {
        "id": "xiqKZrrB_489"
      },
      "execution_count": 28,
      "outputs": []
    },
    {
      "cell_type": "code",
      "source": [
        "plt.plot(thirdyear)"
      ],
      "metadata": {
        "colab": {
          "base_uri": "https://localhost:8080/",
          "height": 282
        },
        "id": "AFmkmzzqG1y2",
        "outputId": "69ba2708-0666-45f2-e64f-bb56431abd39"
      },
      "execution_count": 29,
      "outputs": [
        {
          "output_type": "execute_result",
          "data": {
            "text/plain": [
              "[<matplotlib.lines.Line2D at 0x7f27656d9290>]"
            ]
          },
          "metadata": {},
          "execution_count": 29
        },
        {
          "output_type": "display_data",
          "data": {
            "text/plain": [
              "<Figure size 432x288 with 1 Axes>"
            ],
            "image/png": "[encoded data removed]"
          },
          "metadata": {
            "needs_background": "light"
          }
        }
      ]
    },
    {
      "cell_type": "code",
      "source": [
        "all.extend(list(thirdyear.reshape((-1))))"
      ],
      "metadata": {
        "id": "qxXRma7qG6e1"
      },
      "execution_count": 30,
      "outputs": []
    },
    {
      "cell_type": "code",
      "source": [
        "X_ = Y_[- n_lookback:]  # last available input sequence\n",
        "X_ = X_.reshape(1, n_lookback, 1)\n",
        "\n",
        "Y_ = model.predict(X_).reshape(-1, 1)\n",
        "fourthyear = rs1.inverse_transform(Y_).copy()"
      ],
      "metadata": {
        "id": "3N7vvBbQ_445"
      },
      "execution_count": 31,
      "outputs": []
    },
    {
      "cell_type": "code",
      "source": [
        "plt.plot(fourthyear)"
      ],
      "metadata": {
        "colab": {
          "base_uri": "https://localhost:8080/",
          "height": 282
        },
        "id": "xu4WBwyaG_wo",
        "outputId": "a78d91ed-bca9-45db-a467-176b2dda19ad"
      },
      "execution_count": 32,
      "outputs": [
        {
          "output_type": "execute_result",
          "data": {
            "text/plain": [
              "[<matplotlib.lines.Line2D at 0x7f2765641c10>]"
            ]
          },
          "metadata": {},
          "execution_count": 32
        },
        {
          "output_type": "display_data",
          "data": {
            "text/plain": [
              "<Figure size 432x288 with 1 Axes>"
            ],
            "image/png": "[encoded data removed]"
          },
          "metadata": {
            "needs_background": "light"
          }
        }
      ]
    },
    {
      "cell_type": "code",
      "source": [
        "all.extend(list(fourthyear.reshape((-1))))"
      ],
      "metadata": {
        "id": "Zn2pt2JeHFSl"
      },
      "execution_count": 33,
      "outputs": []
    },
    {
      "cell_type": "code",
      "source": [
        "X_ = Y_[- n_lookback:]  # last available input sequence\n",
        "X_ = X_.reshape(1, n_lookback, 1)\n",
        "\n",
        "Y_ = model.predict(X_).reshape(-1, 1)\n",
        "fifthyear = rs1.inverse_transform(Y_).copy()"
      ],
      "metadata": {
        "id": "EfkM4LVOFYGJ"
      },
      "execution_count": 34,
      "outputs": []
    },
    {
      "cell_type": "code",
      "source": [
        "plt.plot(fifthyear)"
      ],
      "metadata": {
        "colab": {
          "base_uri": "https://localhost:8080/",
          "height": 282
        },
        "id": "WVsNohPKFYC2",
        "outputId": "e3d40d26-ae35-4421-bd94-136cd27e475a"
      },
      "execution_count": 35,
      "outputs": [
        {
          "output_type": "execute_result",
          "data": {
            "text/plain": [
              "[<matplotlib.lines.Line2D at 0x7f276a46f790>]"
            ]
          },
          "metadata": {},
          "execution_count": 35
        },
        {
          "output_type": "display_data",
          "data": {
            "text/plain": [
              "<Figure size 432x288 with 1 Axes>"
            ],
            "image/png": "[encoded data removed]"
          },
          "metadata": {
            "needs_background": "light"
          }
        }
      ]
    },
    {
      "cell_type": "code",
      "source": [
        "all.extend(list(fifthyear.reshape((-1))))"
      ],
      "metadata": {
        "id": "9_hpLQCVFX__"
      },
      "execution_count": 36,
      "outputs": []
    },
    {
      "cell_type": "code",
      "source": [
        "X_ = Y_[- n_lookback:]  # last available input sequence\n",
        "X_ = X_.reshape(1, n_lookback, 1)\n",
        "\n",
        "Y_ = model.predict(X_).reshape(-1, 1)\n",
        "sixthyear = rs1.inverse_transform(Y_).copy()"
      ],
      "metadata": {
        "id": "AAdoPwDNJXOe"
      },
      "execution_count": 37,
      "outputs": []
    },
    {
      "cell_type": "code",
      "source": [
        "all.extend(list(sixthyear.reshape((-1))))"
      ],
      "metadata": {
        "id": "m9RQK-RWJZff"
      },
      "execution_count": 38,
      "outputs": []
    },
    {
      "cell_type": "code",
      "source": [
        "X_ = Y_[- n_lookback:]  # last available input sequence\n",
        "X_ = X_.reshape(1, n_lookback, 1)\n",
        "\n",
        "Y_ = model.predict(X_).reshape(-1, 1)\n",
        "seventhyear = rs1.inverse_transform(Y_).copy()"
      ],
      "metadata": {
        "id": "1_qt5tdcJZc0"
      },
      "execution_count": 39,
      "outputs": []
    },
    {
      "cell_type": "code",
      "source": [
        "all.extend(list(seventhyear.reshape((-1))))"
      ],
      "metadata": {
        "id": "SZ52XUHPJZZ3"
      },
      "execution_count": 40,
      "outputs": []
    },
    {
      "cell_type": "code",
      "source": [
        "X_ = Y_[- n_lookback:]  # last available input sequence\n",
        "X_ = X_.reshape(1, n_lookback, 1)\n",
        "\n",
        "Y_ = model.predict(X_).reshape(-1, 1)\n",
        "eighthyear = rs1.inverse_transform(Y_).copy()"
      ],
      "metadata": {
        "id": "96MHlpwcJZWl"
      },
      "execution_count": 41,
      "outputs": []
    },
    {
      "cell_type": "code",
      "source": [
        "all.extend(list(eighthyear.reshape((-1))))"
      ],
      "metadata": {
        "id": "Bs1HlBDSJZTR"
      },
      "execution_count": 42,
      "outputs": []
    },
    {
      "cell_type": "code",
      "source": [
        "X_ = Y_[- n_lookback:]  # last available input sequence\n",
        "X_ = X_.reshape(1, n_lookback, 1)\n",
        "\n",
        "Y_ = model.predict(X_).reshape(-1, 1)\n",
        "ninethyear = rs1.inverse_transform(Y_).copy()"
      ],
      "metadata": {
        "id": "hFuwYSHdJX-6"
      },
      "execution_count": 43,
      "outputs": []
    },
    {
      "cell_type": "code",
      "source": [
        "all.extend(list(ninethyear.reshape((-1))))"
      ],
      "metadata": {
        "id": "bhRDs5x8JlOm"
      },
      "execution_count": 44,
      "outputs": []
    },
    {
      "cell_type": "code",
      "source": [
        "X_ = Y_[- n_lookback:]  # last available input sequence\n",
        "X_ = X_.reshape(1, n_lookback, 1)\n",
        "\n",
        "Y_ = model.predict(X_).reshape(-1, 1)\n",
        "tenthyear = rs1.inverse_transform(Y_).copy()"
      ],
      "metadata": {
        "id": "W0mAW4XMJlLV"
      },
      "execution_count": 45,
      "outputs": []
    },
    {
      "cell_type": "code",
      "source": [
        "all.extend(list(tenthyear.reshape((-1))))"
      ],
      "metadata": {
        "id": "jTVmIl6EJlG8"
      },
      "execution_count": 46,
      "outputs": []
    },
    {
      "cell_type": "code",
      "source": [
        "plt.plot(all)"
      ],
      "metadata": {
        "colab": {
          "base_uri": "https://localhost:8080/",
          "height": 282
        },
        "id": "lcbK2sxsHMr9",
        "outputId": "6625e7cc-17c4-412f-ec9d-b4ac44bb2365"
      },
      "execution_count": 47,
      "outputs": [
        {
          "output_type": "execute_result",
          "data": {
            "text/plain": [
              "[<matplotlib.lines.Line2D at 0x7f276554a5d0>]"
            ]
          },
          "metadata": {},
          "execution_count": 47
        },
        {
          "output_type": "display_data",
          "data": {
            "text/plain": [
              "<Figure size 432x288 with 1 Axes>"
            ],
            "image/png": "[encoded data removed]"
          },
          "metadata": {
            "needs_background": "light"
          }
        }
      ]
    },
    {
      "cell_type": "code",
      "source": [
        "import pickle"
      ],
      "metadata": {
        "id": "R9qgPHHMvrkQ"
      },
      "execution_count": 48,
      "outputs": []
    },
    {
      "cell_type": "code",
      "source": [
        "with open(\"SolarForecasted.pickle\", \"wb\") as f:\n",
        "  pickle.dump(all, f)"
      ],
      "metadata": {
        "id": "b7fQakPlve1b"
      },
      "execution_count": 49,
      "outputs": []
    },
    {
      "cell_type": "code",
      "source": [
        ""
      ],
      "metadata": {
        "id": "CyrHTd2qLMrB"
      },
      "execution_count": null,
      "outputs": []
    }
  ],
  "metadata": {
    "accelerator": "GPU",
    "colab": {
      "collapsed_sections": [],
      "name": "Predicting Solar Radiation",
      "provenance": []
    },
    "kernelspec": {
      "display_name": "Python 3",
      "name": "python3"
    },
    "language_info": {
      "name": "python"
    }
  },
  "nbformat": 4,
  "nbformat_minor": 0
}